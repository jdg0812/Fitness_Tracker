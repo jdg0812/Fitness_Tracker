{
 "cells": [
  {
   "cell_type": "code",
   "execution_count": 24,
   "metadata": {},
   "outputs": [],
   "source": [
    "import xml.etree.ElementTree as ET\n",
    "import pandas as pd\n",
    "\n",
    "\n",
    "#Extract\n",
    "tree = ET.parse(\"export.xml\")\n",
    "root = tree.getroot()\n",
    "\n",
    "\n",
    "workout_data = []\n",
    "\n",
    "#transform\n",
    "for workout in root.findall(\"Workout\"):\n",
    "    workout_dict = {\n",
    "        \"activity_type\": workout.get(\"workoutActivityType\"),\n",
    "        \"duration_min\": float(workout.get(\"duration\", 0)),\n",
    "        \"source\": workout.get(\"sourceName\"),\n",
    "        \"start_date\": workout.get(\"startDate\"),\n",
    "        \"end_date\": workout.get(\"endDate\")\n",
    "    }\n",
    "    \n",
    "    for stat in workout.findall(\"WorkoutStatistics\"):\n",
    "        stat_type = stat.get(\"type\")  \n",
    "        stat_sum = stat.get(\"sum\")    \n",
    "        stat_unit = stat.get(\"unit\")  \n",
    "        stat_average = stat.get(\"average\")\n",
    "    \n",
    "        \n",
    "        workout_dict[f\"{stat_type}_sum\"] = float(stat_sum) if stat_sum else 0\n",
    "        workout_dict[f\"{stat_type}_unit\"] = stat_unit\n",
    "        workout_dict[f\"{stat_type}_average\"] = float(stat_average) if stat_average else 0\n",
    "       \n",
    "\n",
    "    for metadata in workout.findall('MetadataEntry'): \n",
    "        metadata_key = metadata.get('key')\n",
    "        metadata_value = metadata.get('value')\n",
    "\n",
    "        workout_dict[f\"{metadata_key}\"] = metadata_value\n",
    "        \n",
    "    for event in workout.findall('WorkoutEvent'): \n",
    "        event_type = event.get('type')\n",
    "        event_duration = event.get('duration')\n",
    "\n",
    "        workout_dict[f\"{event_type}_min\"] = float(event_duration) if event_duration else 0\n",
    "    \n",
    "        for event_metadata in event.findall('MetadataEntry'): \n",
    "            event_metadata_key = metadata.get('key')\n",
    "            event_metadata_value = metadata.get('value')\n",
    "\n",
    "            workout_dict[f\"{event_metadata_key}\"] = event_metadata_value\n",
    " \n",
    "\n",
    "    workout_data.append(workout_dict)\n",
    "\n",
    "\n",
    "df = pd.DataFrame(workout_data)\n",
    "\n",
    "\n"
   ]
  },
  {
   "cell_type": "code",
   "execution_count": 25,
   "metadata": {},
   "outputs": [
    {
     "name": "stdout",
     "output_type": "stream",
     "text": [
      "Workout data extracted successfully!\n"
     ]
    }
   ],
   "source": [
    "df.head()\n",
    "\n",
    "# # Save to CSV\n",
    "df.to_csv(\"apple_workouts.csv\", index=False)\n",
    "print(\"Workout data extracted successfully!\")"
   ]
  },
  {
   "cell_type": "code",
   "execution_count": 28,
   "metadata": {},
   "outputs": [
    {
     "name": "stderr",
     "output_type": "stream",
     "text": [
      "/var/folders/w_/_0xjx5cs4pld6fr_8r2vk9wc0000gn/T/ipykernel_73327/4105096115.py:13: FutureWarning: to_gbq is deprecated and will be removed in a future version. Please use pandas_gbq.to_gbq instead: https://pandas-gbq.readthedocs.io/en/latest/api.html#pandas_gbq.to_gbq\n",
      "  df.to_gbq(table_full_id, project_id=PROJECT_ID, if_exists=\"replace\")\n"
     ]
    },
    {
     "name": "stdout",
     "output_type": "stream",
     "text": [
      "Data uploaded successfully!\n"
     ]
    }
   ],
   "source": [
    "import google.oauth2 \n",
    "import pandas as pd\n",
    "\n",
    "# Google Cloud settings\n",
    "PROJECT_ID = \"[PROJECT_ID]\"\n",
    "DATASET_ID = \"apple_workouts\"\n",
    "TABLE_ID = \"workouts\"\n",
    "\n",
    "# Full table path\n",
    "table_full_id = f\"{PROJECT_ID}.{DATASET_ID}.{TABLE_ID}\"\n",
    "\n",
    "# Upload DataFrame to BigQuery\n",
    "df.to_gbq(table_full_id, project_id=PROJECT_ID, if_exists=\"replace\")\n",
    "\n",
    "print(\"Data uploaded successfully!\")\n"
   ]
  },
  {
   "cell_type": "code",
   "execution_count": null,
   "metadata": {},
   "outputs": [],
   "source": []
  }
 ],
 "metadata": {
  "kernelspec": {
   "display_name": "venv",
   "language": "python",
   "name": "python3"
  },
  "language_info": {
   "codemirror_mode": {
    "name": "ipython",
    "version": 3
   },
   "file_extension": ".py",
   "mimetype": "text/x-python",
   "name": "python",
   "nbconvert_exporter": "python",
   "pygments_lexer": "ipython3",
   "version": "3.9.6"
  }
 },
 "nbformat": 4,
 "nbformat_minor": 2
}
